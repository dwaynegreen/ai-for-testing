{
 "cells": [
  {
   "cell_type": "markdown",
   "metadata": {},
   "source": [
    "# Data Analytics for Test Cases"
   ]
  },
  {
   "cell_type": "code",
   "execution_count": 1,
   "metadata": {},
   "outputs": [],
   "source": [
    "# Original code written by Kevin Pyles\n",
    "# Dataset used in this example is fake data with the hope that someone could substitute their\n",
    "# own test case data afterwards\n",
    "# In this \"Tutorial\" It is hoped that a tester could generate a chart showing Test Runs\n",
    "# by Team/Squad, by Release/Regression Run, and by Status\n",
    "# The purpose is therefore to help a tester provide data showing which test cases are adding more value.\n",
    "# It is also possible to show which testers are running more/less test cases during a given time and \n",
    "# to show which squads may have more test cases compared to other squads. "
   ]
  },
  {
   "cell_type": "code",
   "execution_count": 2,
   "metadata": {},
   "outputs": [],
   "source": [
    "# This tutorial was written using Jupyter Notebook. \n",
    "# Installation instructions can be found here: https://jupyter.readthedocs.io/en/latest/install.html "
   ]
  },
  {
   "cell_type": "code",
   "execution_count": 3,
   "metadata": {},
   "outputs": [],
   "source": [
    "# Pandas is used to make data manipulation easy.\n",
    "import pandas as pd"
   ]
  },
  {
   "cell_type": "markdown",
   "metadata": {},
   "source": [
    "## Get csv file into Pandas Dataframe"
   ]
  },
  {
   "cell_type": "code",
   "execution_count": 4,
   "metadata": {},
   "outputs": [],
   "source": [
    "# The assumption is that you have copied the testcasedata.csv file to the same folder as this Python script.\n",
    "# Then you can read in the file to a pandas dataframe really easily with just this one line of code. \n",
    "testcasedata = pd.read_csv('testcasedata.csv', quotechar='\"')"
   ]
  },
  {
   "cell_type": "markdown",
   "metadata": {},
   "source": [
    "## Display first 5 rows of testcasedata"
   ]
  },
  {
   "cell_type": "code",
   "execution_count": 5,
   "metadata": {},
   "outputs": [
    {
     "data": {
      "text/html": [
       "<div>\n",
       "<style scoped>\n",
       "    .dataframe tbody tr th:only-of-type {\n",
       "        vertical-align: middle;\n",
       "    }\n",
       "\n",
       "    .dataframe tbody tr th {\n",
       "        vertical-align: top;\n",
       "    }\n",
       "\n",
       "    .dataframe thead th {\n",
       "        text-align: right;\n",
       "    }\n",
       "</style>\n",
       "<table border=\"1\" class=\"dataframe\">\n",
       "  <thead>\n",
       "    <tr style=\"text-align: right;\">\n",
       "      <th></th>\n",
       "      <th>TestCaseID</th>\n",
       "      <th>Team</th>\n",
       "      <th>Release Version</th>\n",
       "      <th>Tester</th>\n",
       "      <th>Run Date</th>\n",
       "      <th>Status</th>\n",
       "    </tr>\n",
       "  </thead>\n",
       "  <tbody>\n",
       "    <tr>\n",
       "      <th>0</th>\n",
       "      <td>TC1</td>\n",
       "      <td>Speed Demons</td>\n",
       "      <td>Version .9</td>\n",
       "      <td>Bjorn</td>\n",
       "      <td>24-Oct-18</td>\n",
       "      <td>Pass</td>\n",
       "    </tr>\n",
       "    <tr>\n",
       "      <th>1</th>\n",
       "      <td>TC2</td>\n",
       "      <td>Brute Force</td>\n",
       "      <td>Version .9</td>\n",
       "      <td>Daniela</td>\n",
       "      <td>24-Oct-18</td>\n",
       "      <td>Pass</td>\n",
       "    </tr>\n",
       "    <tr>\n",
       "      <th>2</th>\n",
       "      <td>TC3</td>\n",
       "      <td>Hammerheads</td>\n",
       "      <td>Version .9</td>\n",
       "      <td>Yves</td>\n",
       "      <td>24-Oct-18</td>\n",
       "      <td>Pass</td>\n",
       "    </tr>\n",
       "    <tr>\n",
       "      <th>3</th>\n",
       "      <td>TC4</td>\n",
       "      <td>Panthers</td>\n",
       "      <td>Version .9</td>\n",
       "      <td>Vincent</td>\n",
       "      <td>24-Oct-18</td>\n",
       "      <td>Pass</td>\n",
       "    </tr>\n",
       "    <tr>\n",
       "      <th>4</th>\n",
       "      <td>TC5</td>\n",
       "      <td>Speed Demons</td>\n",
       "      <td>Version .9</td>\n",
       "      <td>Vincent</td>\n",
       "      <td>24-Oct-18</td>\n",
       "      <td>Pass</td>\n",
       "    </tr>\n",
       "  </tbody>\n",
       "</table>\n",
       "</div>"
      ],
      "text/plain": [
       "  TestCaseID          Team Release Version   Tester   Run Date Status\n",
       "0        TC1  Speed Demons      Version .9    Bjorn  24-Oct-18   Pass\n",
       "1        TC2   Brute Force      Version .9  Daniela  24-Oct-18   Pass\n",
       "2        TC3   Hammerheads      Version .9     Yves  24-Oct-18   Pass\n",
       "3        TC4      Panthers      Version .9  Vincent  24-Oct-18   Pass\n",
       "4        TC5  Speed Demons      Version .9  Vincent  24-Oct-18   Pass"
      ]
     },
     "execution_count": 5,
     "metadata": {},
     "output_type": "execute_result"
    }
   ],
   "source": [
    "# It is nice to confirm that we actually have the data so we print it out using head()\n",
    "# which displays the first 5 rows of the dataset formatted nicely. \n",
    "testcasedata.head()"
   ]
  },
  {
   "cell_type": "markdown",
   "metadata": {},
   "source": [
    "## Shape will return (Rows, Columns)"
   ]
  },
  {
   "cell_type": "code",
   "execution_count": 6,
   "metadata": {},
   "outputs": [
    {
     "data": {
      "text/plain": [
       "(20000, 6)"
      ]
     },
     "execution_count": 6,
     "metadata": {},
     "output_type": "execute_result"
    }
   ],
   "source": [
    "# This is just another way to confirm you got all the data. \n",
    "# shape will return the number of rows and columns. \n",
    "testcasedata.shape"
   ]
  },
  {
   "cell_type": "markdown",
   "metadata": {},
   "source": [
    "## Print how many test cases have been run for each team"
   ]
  },
  {
   "cell_type": "code",
   "execution_count": 7,
   "metadata": {},
   "outputs": [
    {
     "name": "stdout",
     "output_type": "stream",
     "text": [
      "Team\n",
      "Arsenal         2042\n",
      "Brute Force     2056\n",
      "Cobras          1939\n",
      "Dragons         1986\n",
      "Enforcers       2032\n",
      "Hammerheads     2040\n",
      "Infinite        1985\n",
      "Panthers        1987\n",
      "Speed Demons    1933\n",
      "Warriors        2000\n",
      "dtype: int64\n"
     ]
    }
   ],
   "source": [
    "# Now we start to get into some data analytics. \n",
    "# With this simple command we can see how many test cases have been run for each team. \n",
    "\n",
    "print(testcasedata.groupby('Team').size())"
   ]
  },
  {
   "cell_type": "markdown",
   "metadata": {},
   "source": [
    "## Print how many test cases each tester has run"
   ]
  },
  {
   "cell_type": "code",
   "execution_count": 8,
   "metadata": {},
   "outputs": [
    {
     "name": "stdout",
     "output_type": "stream",
     "text": [
      "Tester\n",
      "Ahmet        1164\n",
      "Alice        1105\n",
      "Bjorn        1110\n",
      "Daniela      1069\n",
      "Dmitry       1141\n",
      "Ella         1088\n",
      "Jessica      1120\n",
      "Katarzyna    1145\n",
      "Leon         1100\n",
      "Nehir        1137\n",
      "Noah         1141\n",
      "Sophia       1073\n",
      "Sota         1117\n",
      "Suzanne      1092\n",
      "Valentina    1094\n",
      "Vijay        1138\n",
      "Vincent      1084\n",
      "Yves         1082\n",
      "dtype: int64\n"
     ]
    }
   ],
   "source": [
    "# And just a simple change to 'Tester' and we can see which testers are running the most test cases. \n",
    "# This is not sorted, feel free to research how to do that and make this even easier to read. \n",
    "\n",
    "print(testcasedata.groupby('Tester').size())"
   ]
  },
  {
   "cell_type": "code",
   "execution_count": 9,
   "metadata": {},
   "outputs": [],
   "source": [
    "# Add matplotlib to provide charting capabilities to Pandas.\n",
    "import matplotlib.pyplot as plt"
   ]
  },
  {
   "cell_type": "markdown",
   "metadata": {},
   "source": [
    "## Bar Chart with Test Case Count by Team"
   ]
  },
  {
   "cell_type": "code",
   "execution_count": 14,
   "metadata": {},
   "outputs": [
    {
     "data": {
      "image/png": "[encoded data removed]",
      "text/plain": [
       "<Figure size 1440x720 with 1 Axes>"
      ]
     },
     "metadata": {
      "needs_background": "light"
     },
     "output_type": "display_data"
    }
   ],
   "source": [
    "# In this chart we want to display how many test cases have been run per team \n",
    "# over the length of time for which we have data. This is the total test cases that have been run, \n",
    "# independent of status (pass/fail). \n",
    "\n",
    "# Get the names of each team for the chart labels\n",
    "x = testcasedata[\"Team\"].unique()\n",
    "# Get the count of test cases run by each team\n",
    "team = testcasedata.groupby('Team').size()\n",
    "# Get an order for the teams for the chart\n",
    "x_pos = [i for i, _ in enumerate(x)]\n",
    "\n",
    "# Change the color of the bars in the chart\n",
    "plt.bar(x_pos, team, color='green')\n",
    "# Add a label to the x-axis\n",
    "plt.xlabel(\"Team\")\n",
    "# Add a label to the y-axis\n",
    "plt.ylabel(\"Test Case Count\")\n",
    "# Add a Title to the Chart\n",
    "plt.title(\"Test Case Count by Team over Time\")\n",
    "\n",
    "# Change size of the chart so labels are spaced out\n",
    "plt.rcParams[\"figure.figsize\"] = [20,10]\n",
    "# Change the x-axis bar labels to be the Team Names for this chart\n",
    "plt.xticks(x_pos, x)\n",
    "# Display the chart\n",
    "plt.show()"
   ]
  },
  {
   "cell_type": "markdown",
   "metadata": {},
   "source": [
    "## Bar Chart with Test Case Count of Passes by Team"
   ]
  },
  {
   "cell_type": "code",
   "execution_count": 11,
   "metadata": {},
   "outputs": [
    {
     "data": {
      "image/png": "[encoded data removed]",
      "text/plain": [
       "<Figure size 1440x720 with 1 Axes>"
      ]
     },
     "metadata": {
      "needs_background": "light"
     },
     "output_type": "display_data"
    }
   ],
   "source": [
    "# In this chart we want to display how many test cases have been run per team and passed\n",
    "# over the length of time for which we have data. \n",
    "\n",
    "# Get all test cases that are passing\n",
    "passes = testcasedata.loc[testcasedata[\"Status\"] == \"Pass\"]\n",
    "\n",
    "# Get the names of each team for the chart labels\n",
    "x = passes[\"Team\"].unique()\n",
    "# Get the count of test cases passing by each team\n",
    "team = passes.groupby('Team').size()\n",
    "# Get an order for the teams for the chart\n",
    "x_pos = [i for i, _ in enumerate(x)]\n",
    "\n",
    "# Change the color of the bars in the chart\n",
    "plt.bar(x_pos, team, color='green')\n",
    "# Add a label to the x-axis\n",
    "plt.xlabel(\"Team\")\n",
    "# Add a label to the y-axis\n",
    "plt.ylabel(\"Number of Pass\")\n",
    "# Add a Title to the Chart\n",
    "plt.title(\"Test Case Count by Team over Time\")\n",
    "\n",
    "# Change size of the chart so labels are spaced out\n",
    "plt.rcParams[\"figure.figsize\"] = [20,10]\n",
    "# Change the x-axis bar labels to be the Team Names for this chart\n",
    "plt.xticks(x_pos, x)\n",
    "# Display the chart\n",
    "plt.show()"
   ]
  },
  {
   "cell_type": "markdown",
   "metadata": {},
   "source": [
    "## Bar Chart with Test Case Count of Failures by Team"
   ]
  },
  {
   "cell_type": "code",
   "execution_count": 15,
   "metadata": {},
   "outputs": [
    {
     "data": {
      "image/png": "[encoded data removed]",
      "text/plain": [
       "<Figure size 1440x720 with 1 Axes>"
      ]
     },
     "metadata": {
      "needs_background": "light"
     },
     "output_type": "display_data"
    }
   ],
   "source": [
    "# In this chart we want to display how many test cases have been run per team and failed\n",
    "# over the length of time for which we have data. \n",
    "\n",
    "# Get all test cases that are failing\n",
    "failures = testcasedata.loc[testcasedata[\"Status\"] == \"Fail\"]\n",
    "\n",
    "# Get the names of each team for the chart labels\n",
    "x = failures[\"Team\"].unique()\n",
    "# Get the count of test cases failing by each team\n",
    "team = failures.groupby('Team').size()\n",
    "# Get an order for the teams for the chart\n",
    "x_pos = [i for i, _ in enumerate(x)]\n",
    "\n",
    "# Change the color of the bars in the chart\n",
    "plt.bar(x_pos, team, color='red')\n",
    "# Add a label to the x-axis\n",
    "plt.xlabel(\"Team\")\n",
    "# Add a label to the y-axis\n",
    "plt.ylabel(\"Number of Fail\")\n",
    "# Add a Title to the Chart\n",
    "plt.title(\"Test Case Count by Team over Time\")\n",
    "\n",
    "# Change size of the chart so labels are spaced out\n",
    "plt.rcParams[\"figure.figsize\"] = [20,10]\n",
    "# Change the x-axis bar labels to be the Team Names for this chart\n",
    "plt.xticks(x_pos, x)\n",
    "# Display the chart\n",
    "plt.show()"
   ]
  },
  {
   "cell_type": "markdown",
   "metadata": {},
   "source": [
    "## Stacked Bar Chart with Test Count of Pass/Fail by Team"
   ]
  },
  {
   "cell_type": "code",
   "execution_count": 16,
   "metadata": {},
   "outputs": [
    {
     "data": {
      "image/png": "[encoded data removed]",
      "text/plain": [
       "<Figure size 1440x720 with 1 Axes>"
      ]
     },
     "metadata": {
      "needs_background": "light"
     },
     "output_type": "display_data"
    }
   ],
   "source": [
    "# In this chart we want to display how many test cases have been run per team and both failed and passed\n",
    "# over the length of time for which we have data. \n",
    "\n",
    "# Get all test cases that are passing\n",
    "passes = testcasedata.loc[testcasedata[\"Status\"] == \"Pass\"]\n",
    "# Get all test cases that are failing\n",
    "failures = testcasedata.loc[testcasedata[\"Status\"] == \"Fail\"]\n",
    "\n",
    "# Get the names of each team for the chart labels\n",
    "x = failures[\"Team\"].unique()\n",
    "# Get the count of test cases failing by each team\n",
    "teamfail = failures.groupby('Team').size()\n",
    "# Get the count of test cases passing by each team\n",
    "teampass = passes.groupby('Team').size()\n",
    "# Get an order for the teams for the chart\n",
    "x_pos = [i for i, _ in enumerate(x)]\n",
    "\n",
    "# Create the bars for the chart Fail and Pass, Notice the \"teampass\" count will be on the bottom of the chart\n",
    "plt.bar(x_pos, teamfail, width=.8, label='fails', color='red', bottom=teampass)\n",
    "plt.bar(x_pos, teampass, width=.8, label='passes', color='green')\n",
    "\n",
    "# Add a label to the x-axis\n",
    "plt.xlabel(\"Team\")\n",
    "# Add a Title to the Chart\n",
    "plt.title(\"All Test Cases Status by Team\")\n",
    "\n",
    "# Change size of the chart so labels are spaced out\n",
    "plt.rcParams[\"figure.figsize\"] = [20,10]\n",
    "# Change the x-axis bar labels to be the Team Names for this chart\n",
    "plt.xticks(x_pos, x)\n",
    "# Move the chart legend to the lower right side of the chart\n",
    "plt.legend(loc=\"lower right\")\n",
    "# Display the chart\n",
    "plt.show()"
   ]
  },
  {
   "cell_type": "markdown",
   "metadata": {},
   "source": [
    "## Stacked Bar Chart with Test Count of Pass/Fail by Release"
   ]
  },
  {
   "cell_type": "code",
   "execution_count": 18,
   "metadata": {},
   "outputs": [
    {
     "data": {
      "image/png": "[encoded data removed]",
      "text/plain": [
       "<Figure size 1440x720 with 1 Axes>"
      ]
     },
     "metadata": {
      "needs_background": "light"
     },
     "output_type": "display_data"
    }
   ],
   "source": [
    "# In this chart we want to display how many test cases have been run per release and both failed and passed\n",
    "# over the length of time for which we have data.\n",
    "\n",
    "# Get all test cases that are passing\n",
    "passes = testcasedata.loc[testcasedata[\"Status\"] == \"Pass\"]\n",
    "# Get all test cases that are failing\n",
    "failures = testcasedata.loc[testcasedata[\"Status\"] == \"Fail\"]\n",
    "\n",
    "# Get the names of each Release Version for the chart labels\n",
    "x = passes[\"Release Version\"].unique()\n",
    "# Get the count of test cases failing by each Release\n",
    "releasefail = failures.groupby('Release Version').size()\n",
    "# Get the count of test cases passing by each Release\n",
    "releasepass = passes.groupby('Release Version').size()\n",
    "# Get an order for the teams for the chart\n",
    "x_pos = [i for i, _ in enumerate(x)]\n",
    "# Create the bars for the chart Fail and Pass, Notice the \"releasepass\" count will be on the bottom of the chart\n",
    "plt.bar(x_pos, releasefail, width=.8, label='fails', color='red', bottom=releasepass)\n",
    "plt.bar(x_pos, releasepass, width=.8, label='passes', color='green')\n",
    "\n",
    "# Add a label to the x-axis\n",
    "plt.xlabel(\"Release Version\")\n",
    "# Add a Title to the Chart\n",
    "plt.title(\"Test Case Count by Team over Time\")\n",
    "\n",
    "# Change size of the chart so labels are spaced out\n",
    "plt.rcParams[\"figure.figsize\"] = [20,10]\n",
    "# Change the x-axis bar labels to be the Team Names for this chart\n",
    "plt.xticks(x_pos, x)\n",
    "# Move the chart legend to the lower right side of the chart\n",
    "plt.legend(loc=\"lower right\")\n",
    "# Display the chart\n",
    "plt.show()"
   ]
  },
  {
   "cell_type": "code",
   "execution_count": null,
   "metadata": {},
   "outputs": [],
   "source": [
    "# Because I am a tester, I added these queries to \n",
    "# check for test cases so I could manually confirm the accuracy of the data. "
   ]
  },
  {
   "cell_type": "code",
   "execution_count": 19,
   "metadata": {},
   "outputs": [
    {
     "data": {
      "text/plain": [
       "94"
      ]
     },
     "execution_count": 19,
     "metadata": {},
     "output_type": "execute_result"
    }
   ],
   "source": [
    "#Checking for number of test cases that have a \"Fail\" Status.\n",
    "len(failures[\"TestCaseID\"].unique())"
   ]
  },
  {
   "cell_type": "code",
   "execution_count": 20,
   "metadata": {},
   "outputs": [
    {
     "data": {
      "text/html": [
       "<div>\n",
       "<style scoped>\n",
       "    .dataframe tbody tr th:only-of-type {\n",
       "        vertical-align: middle;\n",
       "    }\n",
       "\n",
       "    .dataframe tbody tr th {\n",
       "        vertical-align: top;\n",
       "    }\n",
       "\n",
       "    .dataframe thead th {\n",
       "        text-align: right;\n",
       "    }\n",
       "</style>\n",
       "<table border=\"1\" class=\"dataframe\">\n",
       "  <thead>\n",
       "    <tr style=\"text-align: right;\">\n",
       "      <th></th>\n",
       "      <th>TestCaseID</th>\n",
       "      <th>Team</th>\n",
       "      <th>Release Version</th>\n",
       "      <th>Tester</th>\n",
       "      <th>Run Date</th>\n",
       "      <th>Status</th>\n",
       "    </tr>\n",
       "  </thead>\n",
       "  <tbody>\n",
       "    <tr>\n",
       "      <th>88</th>\n",
       "      <td>TC89</td>\n",
       "      <td>Panthers</td>\n",
       "      <td>Version .9</td>\n",
       "      <td>Vincent</td>\n",
       "      <td>24-Oct-18</td>\n",
       "      <td>Pass</td>\n",
       "    </tr>\n",
       "    <tr>\n",
       "      <th>1088</th>\n",
       "      <td>TC89</td>\n",
       "      <td>Dragons</td>\n",
       "      <td>Version 1.0</td>\n",
       "      <td>Leon</td>\n",
       "      <td>7-Nov-18</td>\n",
       "      <td>Pass</td>\n",
       "    </tr>\n",
       "    <tr>\n",
       "      <th>2088</th>\n",
       "      <td>TC89</td>\n",
       "      <td>Arsenal</td>\n",
       "      <td>Version 1.1</td>\n",
       "      <td>Ahmet</td>\n",
       "      <td>21-Nov-18</td>\n",
       "      <td>Pass</td>\n",
       "    </tr>\n",
       "    <tr>\n",
       "      <th>3088</th>\n",
       "      <td>TC89</td>\n",
       "      <td>Speed Demons</td>\n",
       "      <td>Version 1.2</td>\n",
       "      <td>Vincent</td>\n",
       "      <td>5-Dec-18</td>\n",
       "      <td>Pass</td>\n",
       "    </tr>\n",
       "    <tr>\n",
       "      <th>4088</th>\n",
       "      <td>TC89</td>\n",
       "      <td>Enforcers</td>\n",
       "      <td>Version 1.2.1</td>\n",
       "      <td>Alice</td>\n",
       "      <td>19-Dec-18</td>\n",
       "      <td>Pass</td>\n",
       "    </tr>\n",
       "    <tr>\n",
       "      <th>5088</th>\n",
       "      <td>TC89</td>\n",
       "      <td>Hammerheads</td>\n",
       "      <td>Version 1.3</td>\n",
       "      <td>Bjorn</td>\n",
       "      <td>2-Jan-19</td>\n",
       "      <td>Pass</td>\n",
       "    </tr>\n",
       "    <tr>\n",
       "      <th>6088</th>\n",
       "      <td>TC89</td>\n",
       "      <td>Brute Force</td>\n",
       "      <td>Version 1.4</td>\n",
       "      <td>Daniela</td>\n",
       "      <td>16-Jan-19</td>\n",
       "      <td>Pass</td>\n",
       "    </tr>\n",
       "    <tr>\n",
       "      <th>7088</th>\n",
       "      <td>TC89</td>\n",
       "      <td>Enforcers</td>\n",
       "      <td>Version 1.5</td>\n",
       "      <td>Sota</td>\n",
       "      <td>30-Jan-19</td>\n",
       "      <td>Pass</td>\n",
       "    </tr>\n",
       "    <tr>\n",
       "      <th>8088</th>\n",
       "      <td>TC89</td>\n",
       "      <td>Infinite</td>\n",
       "      <td>Version 1.6</td>\n",
       "      <td>Katarzyna</td>\n",
       "      <td>13-Feb-19</td>\n",
       "      <td>Pass</td>\n",
       "    </tr>\n",
       "    <tr>\n",
       "      <th>9088</th>\n",
       "      <td>TC89</td>\n",
       "      <td>Dragons</td>\n",
       "      <td>Version 1.7</td>\n",
       "      <td>Sophia</td>\n",
       "      <td>27-Feb-19</td>\n",
       "      <td>Pass</td>\n",
       "    </tr>\n",
       "    <tr>\n",
       "      <th>10088</th>\n",
       "      <td>TC89</td>\n",
       "      <td>Panthers</td>\n",
       "      <td>Version 1.8</td>\n",
       "      <td>Sota</td>\n",
       "      <td>13-Mar-19</td>\n",
       "      <td>Pass</td>\n",
       "    </tr>\n",
       "    <tr>\n",
       "      <th>11088</th>\n",
       "      <td>TC89</td>\n",
       "      <td>Brute Force</td>\n",
       "      <td>Version 1.9</td>\n",
       "      <td>Bjorn</td>\n",
       "      <td>27-Mar-19</td>\n",
       "      <td>Pass</td>\n",
       "    </tr>\n",
       "    <tr>\n",
       "      <th>12088</th>\n",
       "      <td>TC89</td>\n",
       "      <td>Cobras</td>\n",
       "      <td>Version 2.0</td>\n",
       "      <td>Yves</td>\n",
       "      <td>10-Apr-19</td>\n",
       "      <td>Pass</td>\n",
       "    </tr>\n",
       "    <tr>\n",
       "      <th>13088</th>\n",
       "      <td>TC89</td>\n",
       "      <td>Enforcers</td>\n",
       "      <td>Version 2.0.1</td>\n",
       "      <td>Vincent</td>\n",
       "      <td>24-Apr-19</td>\n",
       "      <td>Pass</td>\n",
       "    </tr>\n",
       "    <tr>\n",
       "      <th>14088</th>\n",
       "      <td>TC89</td>\n",
       "      <td>Warriors</td>\n",
       "      <td>Version 2.1</td>\n",
       "      <td>Sophia</td>\n",
       "      <td>8-May-19</td>\n",
       "      <td>Pass</td>\n",
       "    </tr>\n",
       "    <tr>\n",
       "      <th>15088</th>\n",
       "      <td>TC89</td>\n",
       "      <td>Infinite</td>\n",
       "      <td>Version 2.1.1</td>\n",
       "      <td>Valentina</td>\n",
       "      <td>12-Jun-19</td>\n",
       "      <td>Pass</td>\n",
       "    </tr>\n",
       "    <tr>\n",
       "      <th>16088</th>\n",
       "      <td>TC89</td>\n",
       "      <td>Hammerheads</td>\n",
       "      <td>Version 2.2</td>\n",
       "      <td>Leon</td>\n",
       "      <td>26-Jun-19</td>\n",
       "      <td>Pass</td>\n",
       "    </tr>\n",
       "    <tr>\n",
       "      <th>17088</th>\n",
       "      <td>TC89</td>\n",
       "      <td>Brute Force</td>\n",
       "      <td>Version 2.3</td>\n",
       "      <td>Ella</td>\n",
       "      <td>10-Jul-19</td>\n",
       "      <td>Pass</td>\n",
       "    </tr>\n",
       "    <tr>\n",
       "      <th>18088</th>\n",
       "      <td>TC89</td>\n",
       "      <td>Warriors</td>\n",
       "      <td>Version 2.4</td>\n",
       "      <td>Yves</td>\n",
       "      <td>24-Jul-19</td>\n",
       "      <td>Pass</td>\n",
       "    </tr>\n",
       "    <tr>\n",
       "      <th>19088</th>\n",
       "      <td>TC89</td>\n",
       "      <td>Warriors</td>\n",
       "      <td>Version 2.5</td>\n",
       "      <td>Ahmet</td>\n",
       "      <td>7-Aug-19</td>\n",
       "      <td>Pass</td>\n",
       "    </tr>\n",
       "  </tbody>\n",
       "</table>\n",
       "</div>"
      ],
      "text/plain": [
       "      TestCaseID          Team Release Version     Tester   Run Date Status\n",
       "88          TC89      Panthers      Version .9    Vincent  24-Oct-18   Pass\n",
       "1088        TC89       Dragons     Version 1.0       Leon   7-Nov-18   Pass\n",
       "2088        TC89       Arsenal     Version 1.1      Ahmet  21-Nov-18   Pass\n",
       "3088        TC89  Speed Demons     Version 1.2    Vincent   5-Dec-18   Pass\n",
       "4088        TC89     Enforcers   Version 1.2.1      Alice  19-Dec-18   Pass\n",
       "5088        TC89   Hammerheads     Version 1.3      Bjorn   2-Jan-19   Pass\n",
       "6088        TC89   Brute Force     Version 1.4    Daniela  16-Jan-19   Pass\n",
       "7088        TC89     Enforcers     Version 1.5       Sota  30-Jan-19   Pass\n",
       "8088        TC89      Infinite     Version 1.6  Katarzyna  13-Feb-19   Pass\n",
       "9088        TC89       Dragons     Version 1.7     Sophia  27-Feb-19   Pass\n",
       "10088       TC89      Panthers     Version 1.8       Sota  13-Mar-19   Pass\n",
       "11088       TC89   Brute Force     Version 1.9      Bjorn  27-Mar-19   Pass\n",
       "12088       TC89        Cobras     Version 2.0       Yves  10-Apr-19   Pass\n",
       "13088       TC89     Enforcers   Version 2.0.1    Vincent  24-Apr-19   Pass\n",
       "14088       TC89      Warriors     Version 2.1     Sophia   8-May-19   Pass\n",
       "15088       TC89      Infinite   Version 2.1.1  Valentina  12-Jun-19   Pass\n",
       "16088       TC89   Hammerheads     Version 2.2       Leon  26-Jun-19   Pass\n",
       "17088       TC89   Brute Force     Version 2.3       Ella  10-Jul-19   Pass\n",
       "18088       TC89      Warriors     Version 2.4       Yves  24-Jul-19   Pass\n",
       "19088       TC89      Warriors     Version 2.5      Ahmet   7-Aug-19   Pass"
      ]
     },
     "execution_count": 20,
     "metadata": {},
     "output_type": "execute_result"
    }
   ],
   "source": [
    "# Test code to check for Passing test cases with a certain TestCaseID\n",
    "testcasedata.loc[testcasedata['TestCaseID'] == 'TC89']"
   ]
  }
 ],
 "metadata": {
  "kernelspec": {
   "display_name": "Python 3",
   "language": "python",
   "name": "python3"
  },
  "language_info": {
   "codemirror_mode": {
    "name": "ipython",
    "version": 3
   },
   "file_extension": ".py",
   "mimetype": "text/x-python",
   "name": "python",
   "nbconvert_exporter": "python",
   "pygments_lexer": "ipython3",
   "version": "3.7.3"
  }
 },
 "nbformat": 4,
 "nbformat_minor": 2
}
