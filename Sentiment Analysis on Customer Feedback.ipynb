{
 "cells": [
  {
   "cell_type": "code",
   "execution_count": 1,
   "metadata": {},
   "outputs": [],
   "source": [
    "#Sentiment Analysis on Customer Feedback"
   ]
  },
  {
   "cell_type": "code",
   "execution_count": 2,
   "metadata": {},
   "outputs": [],
   "source": [
    "#Polarity is a float which lies in the range of [-1,1] where 1 means positive statement and -1 means a negative statement. \n",
    "#Subjective sentences generally refer to personal opinion, emotion or judgment whereas objective refers to factual information. \n",
    "#Subjectivity is also a float which lies in the range of [0,1]."
   ]
  },
  {
   "cell_type": "code",
   "execution_count": 3,
   "metadata": {},
   "outputs": [],
   "source": [
    "#textblob must be installed, check https://textblob.readthedocs.io/en/dev/ for detailed instructions\n",
    "import pandas as pd\n",
    "from textblob import TextBlob"
   ]
  },
  {
   "cell_type": "code",
   "execution_count": 4,
   "metadata": {},
   "outputs": [],
   "source": [
    "# The assumption is that you have copied the User Feedback.csv file to the same folder as this Python script.\n",
    "# Then you can read in the file to a pandas dataframe really easily with just this one line of code. \n",
    "feedbackdata = pd.read_csv('User Feedback.csv', quotechar='\"')"
   ]
  },
  {
   "cell_type": "code",
   "execution_count": 5,
   "metadata": {},
   "outputs": [
    {
     "data": {
      "text/html": [
       "<div>\n",
       "<style scoped>\n",
       "    .dataframe tbody tr th:only-of-type {\n",
       "        vertical-align: middle;\n",
       "    }\n",
       "\n",
       "    .dataframe tbody tr th {\n",
       "        vertical-align: top;\n",
       "    }\n",
       "\n",
       "    .dataframe thead th {\n",
       "        text-align: right;\n",
       "    }\n",
       "</style>\n",
       "<table border=\"1\" class=\"dataframe\">\n",
       "  <thead>\n",
       "    <tr style=\"text-align: right;\">\n",
       "      <th></th>\n",
       "      <th>Date</th>\n",
       "      <th>Comments</th>\n",
       "    </tr>\n",
       "  </thead>\n",
       "  <tbody>\n",
       "    <tr>\n",
       "      <th>0</th>\n",
       "      <td>July 5, 2019</td>\n",
       "      <td>What a great product! I love the simplicity an...</td>\n",
       "    </tr>\n",
       "    <tr>\n",
       "      <th>1</th>\n",
       "      <td>July 6, 2019</td>\n",
       "      <td>How can you release this? This is terrible? I ...</td>\n",
       "    </tr>\n",
       "    <tr>\n",
       "      <th>2</th>\n",
       "      <td>July 7, 2019</td>\n",
       "      <td>This product is nice.</td>\n",
       "    </tr>\n",
       "    <tr>\n",
       "      <th>3</th>\n",
       "      <td>July 8, 2019</td>\n",
       "      <td>I keep getting errors. Nothing is working. Ple...</td>\n",
       "    </tr>\n",
       "    <tr>\n",
       "      <th>4</th>\n",
       "      <td>July 9, 2019</td>\n",
       "      <td>I still can't get anything to run. Everything ...</td>\n",
       "    </tr>\n",
       "  </tbody>\n",
       "</table>\n",
       "</div>"
      ],
      "text/plain": [
       "           Date                                           Comments\n",
       "0  July 5, 2019  What a great product! I love the simplicity an...\n",
       "1  July 6, 2019  How can you release this? This is terrible? I ...\n",
       "2  July 7, 2019                              This product is nice.\n",
       "3  July 8, 2019  I keep getting errors. Nothing is working. Ple...\n",
       "4  July 9, 2019  I still can't get anything to run. Everything ..."
      ]
     },
     "execution_count": 5,
     "metadata": {},
     "output_type": "execute_result"
    }
   ],
   "source": [
    "#Print out part of the csv file just to confirm we have it and we understand the data\n",
    "feedbackdata.head()"
   ]
  },
  {
   "cell_type": "code",
   "execution_count": 6,
   "metadata": {},
   "outputs": [
    {
     "name": "stdout",
     "output_type": "stream",
     "text": [
      "What a great product! I love the simplicity and beauty!\n",
      "Polarity:  0.8125\n",
      "Subjectivity:  0.675\n",
      "How can you release this? This is terrible? I want my money back!\n",
      "Polarity:  -0.5\n",
      "Subjectivity:  0.5\n",
      "This product is nice.\n",
      "Polarity:  0.6\n",
      "Subjectivity:  1.0\n",
      "I keep getting errors. Nothing is working. Please fix asap!\n",
      "Polarity:  0.0\n",
      "Subjectivity:  0.0\n",
      "I still can't get anything to run. Everything is broken.\n",
      "Polarity:  -0.4\n",
      "Subjectivity:  0.4\n",
      "New features are nice. I really like the new editing options for my posts. Will we be able to add images too?\n",
      "Polarity:  0.3145454545454546\n",
      "Subjectivity:  0.5468181818181818\n"
     ]
    }
   ],
   "source": [
    "for comment in range(0,len(feedbackdata)):\n",
    "    currentComment = feedbackdata['Comments'].iloc[comment]\n",
    "    print(currentComment)\n",
    "    print(\"Polarity: \", TextBlob(str(currentComment)).sentiment[0])\n",
    "    print(\"Subjectivity: \", TextBlob(str(currentComment)).sentiment[1])"
   ]
  },
  {
   "cell_type": "code",
   "execution_count": 7,
   "metadata": {},
   "outputs": [
    {
     "name": "stdout",
     "output_type": "stream",
     "text": [
      "What a great product! I love the simplicity and beauty!\n",
      "Sentiment(polarity=0.8125, subjectivity=0.675)\n"
     ]
    }
   ],
   "source": [
    "# Create a new file \"User Feedback with Sentiment Analysis.csv\"\n",
    "# which will contain a copy of the date and comments from the original file\n",
    "# and will add the polarity and subjectivity values for each comment\n",
    "\n",
    "print(feedbackdata['Comments'].iloc[0])\n",
    "print(TextBlob(str(feedbackdata['Comments'].iloc[0])).sentiment)"
   ]
  },
  {
   "cell_type": "code",
   "execution_count": 8,
   "metadata": {},
   "outputs": [],
   "source": [
    "f = open(\"User Feedback with Sentiment Analysis.csv\", \"w\")\n",
    "f.writelines(\"Date\" + \",\" + \"Comment\" + \",\" + \"Polarity\" + \",\" + \"Subjectivity\" + \"\\n\")\n",
    "for comment in range(0, len(feedbackdata)):\n",
    "    date = feedbackdata['Date'].iloc[comment]\n",
    "    currentComment = feedbackdata['Comments'].iloc[comment]\n",
    "    polarity = TextBlob(str(currentComment)).sentiment[0]\n",
    "    subjectivity = TextBlob(str(currentComment)).sentiment[1]\n",
    "    f.writelines(\"\\\"\" + date + \"\\\"\" + \",\" + currentComment + \",\" + str(polarity) + \",\" + str(subjectivity) + \"\\n\")\n",
    "f.close()"
   ]
  },
  {
   "cell_type": "markdown",
   "metadata": {},
   "source": [
    "## How do we visualize this data? "
   ]
  },
  {
   "cell_type": "code",
   "execution_count": 9,
   "metadata": {},
   "outputs": [],
   "source": [
    "#Matplotlib is a charting engine for Python\n",
    "import matplotlib.pyplot as plt"
   ]
  },
  {
   "cell_type": "code",
   "execution_count": 10,
   "metadata": {},
   "outputs": [],
   "source": [
    "#Open the file \n",
    "analysisdata = pd.read_csv('User Feedback with Sentiment Analysis.csv', quotechar='\"')"
   ]
  },
  {
   "cell_type": "code",
   "execution_count": 11,
   "metadata": {
    "scrolled": true
   },
   "outputs": [
    {
     "data": {
      "text/html": [
       "<div>\n",
       "<style scoped>\n",
       "    .dataframe tbody tr th:only-of-type {\n",
       "        vertical-align: middle;\n",
       "    }\n",
       "\n",
       "    .dataframe tbody tr th {\n",
       "        vertical-align: top;\n",
       "    }\n",
       "\n",
       "    .dataframe thead th {\n",
       "        text-align: right;\n",
       "    }\n",
       "</style>\n",
       "<table border=\"1\" class=\"dataframe\">\n",
       "  <thead>\n",
       "    <tr style=\"text-align: right;\">\n",
       "      <th></th>\n",
       "      <th>Date</th>\n",
       "      <th>Comment</th>\n",
       "      <th>Polarity</th>\n",
       "      <th>Subjectivity</th>\n",
       "    </tr>\n",
       "  </thead>\n",
       "  <tbody>\n",
       "    <tr>\n",
       "      <th>0</th>\n",
       "      <td>July 5, 2019</td>\n",
       "      <td>What a great product! I love the simplicity an...</td>\n",
       "      <td>0.8125</td>\n",
       "      <td>0.675</td>\n",
       "    </tr>\n",
       "    <tr>\n",
       "      <th>1</th>\n",
       "      <td>July 6, 2019</td>\n",
       "      <td>How can you release this? This is terrible? I ...</td>\n",
       "      <td>-0.5000</td>\n",
       "      <td>0.500</td>\n",
       "    </tr>\n",
       "    <tr>\n",
       "      <th>2</th>\n",
       "      <td>July 7, 2019</td>\n",
       "      <td>This product is nice.</td>\n",
       "      <td>0.6000</td>\n",
       "      <td>1.000</td>\n",
       "    </tr>\n",
       "    <tr>\n",
       "      <th>3</th>\n",
       "      <td>July 8, 2019</td>\n",
       "      <td>I keep getting errors. Nothing is working. Ple...</td>\n",
       "      <td>0.0000</td>\n",
       "      <td>0.000</td>\n",
       "    </tr>\n",
       "    <tr>\n",
       "      <th>4</th>\n",
       "      <td>July 9, 2019</td>\n",
       "      <td>I still can't get anything to run. Everything ...</td>\n",
       "      <td>-0.4000</td>\n",
       "      <td>0.400</td>\n",
       "    </tr>\n",
       "  </tbody>\n",
       "</table>\n",
       "</div>"
      ],
      "text/plain": [
       "           Date                                            Comment  Polarity  \\\n",
       "0  July 5, 2019  What a great product! I love the simplicity an...    0.8125   \n",
       "1  July 6, 2019  How can you release this? This is terrible? I ...   -0.5000   \n",
       "2  July 7, 2019                              This product is nice.    0.6000   \n",
       "3  July 8, 2019  I keep getting errors. Nothing is working. Ple...    0.0000   \n",
       "4  July 9, 2019  I still can't get anything to run. Everything ...   -0.4000   \n",
       "\n",
       "   Subjectivity  \n",
       "0         0.675  \n",
       "1         0.500  \n",
       "2         1.000  \n",
       "3         0.000  \n",
       "4         0.400  "
      ]
     },
     "execution_count": 11,
     "metadata": {},
     "output_type": "execute_result"
    }
   ],
   "source": [
    "#View the data so we can make sure we understand it.\n",
    "analysisdata.head()"
   ]
  },
  {
   "cell_type": "code",
   "execution_count": 12,
   "metadata": {},
   "outputs": [
    {
     "data": {
      "image/png": "[encoded data removed]",
      "text/plain": [
       "<Figure size 432x288 with 1 Axes>"
      ]
     },
     "metadata": {
      "needs_background": "light"
     },
     "output_type": "display_data"
    }
   ],
   "source": [
    "# Chart the data. \n",
    "plt.plot(analysisdata['Date'],analysisdata['Polarity'], marker='o')\n",
    "plt.xlabel('Date')\n",
    "plt.ylabel('Polarity')\n",
    "plt.show()"
   ]
  }
 ],
 "metadata": {
  "kernelspec": {
   "display_name": "Python 3",
   "language": "python",
   "name": "python3"
  },
  "language_info": {
   "codemirror_mode": {
    "name": "ipython",
    "version": 3
   },
   "file_extension": ".py",
   "mimetype": "text/x-python",
   "name": "python",
   "nbconvert_exporter": "python",
   "pygments_lexer": "ipython3",
   "version": "3.7.3"
  }
 },
 "nbformat": 4,
 "nbformat_minor": 2
}
